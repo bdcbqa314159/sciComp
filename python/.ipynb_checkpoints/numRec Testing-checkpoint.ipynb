{
 "cells": [
  {
   "cell_type": "code",
   "execution_count": 1,
   "id": "aa172427",
   "metadata": {},
   "outputs": [],
   "source": [
    "import numpy as np\n",
    "import numRec"
   ]
  },
  {
   "cell_type": "code",
   "execution_count": 2,
   "id": "f693db7f",
   "metadata": {},
   "outputs": [],
   "source": [
    "class nrVec2np:\n",
    "    \n",
    "    def __init__(self, nrVector):\n",
    "        self.nrV = nrVector;\n",
    "        self.np = np.array([self.nr[i] for i in range(self.nr.size())])\n",
    "        \n",
    "class nrMat2np:\n",
    "    \n",
    "    def __init__(self, nrMatrix):\n",
    "        self.nrM = nrMatrix;\n",
    "        self.np = np.array([[self.nrM[i,j] for j in range(self.nrM.cols())] for i in range(self.nrM.rows())])"
   ]
  },
  {
   "cell_type": "code",
   "execution_count": 41,
   "id": "fe407377",
   "metadata": {},
   "outputs": [],
   "source": [
    "a = np.array([[2,1,2],[1,2,1],[3,1,-1]]).astype(np.float32)\n",
    "A = numRec.Matrix(a)\n",
    "A_ = nrMat2np(A)"
   ]
  },
  {
   "cell_type": "code",
   "execution_count": 44,
   "id": "1e5094b4",
   "metadata": {},
   "outputs": [
    {
     "data": {
      "text/plain": [
       "array([[ 0.25      , -0.25      ,  0.25      ],\n",
       "       [-0.33333333,  0.66666667,  0.        ],\n",
       "       [ 0.41666667, -0.08333333, -0.25      ]])"
      ]
     },
     "execution_count": 44,
     "metadata": {},
     "output_type": "execute_result"
    }
   ],
   "source": [
    "np.linalg.inv(A_.np)"
   ]
  },
  {
   "cell_type": "code",
   "execution_count": 48,
   "id": "8a80d11c",
   "metadata": {},
   "outputs": [],
   "source": [
    "numRec.gaussJ(A)\n",
    "A1_ = nrMat2np(A)\n",
    "A_.np"
   ]
  },
  {
   "cell_type": "code",
   "execution_count": 46,
   "id": "b81d9921",
   "metadata": {},
   "outputs": [],
   "source": []
  },
  {
   "cell_type": "code",
   "execution_count": 47,
   "id": "15f900b2",
   "metadata": {},
   "outputs": [
    {
     "data": {
      "text/plain": [
       "array([[ 0.25      , -0.25      ,  0.25      ],\n",
       "       [ 0.        ,  0.66666669, -0.33333334],\n",
       "       [-0.25      , -0.08333333,  0.41666666]])"
      ]
     },
     "execution_count": 47,
     "metadata": {},
     "output_type": "execute_result"
    }
   ],
   "source": []
  },
  {
   "cell_type": "code",
   "execution_count": 34,
   "id": "4e89a379",
   "metadata": {},
   "outputs": [],
   "source": [
    "interface = numRec.LUdcmp(A)\n",
    "a1 = np.array([[2,1,0],[0,0,1],[1,0,-1]]).astype(np.float32)\n",
    "A1 = numRec.Matrix(a1)"
   ]
  },
  {
   "cell_type": "code",
   "execution_count": 35,
   "id": "1586696d",
   "metadata": {},
   "outputs": [],
   "source": [
    "interface.inverse(A1)"
   ]
  },
  {
   "cell_type": "code",
   "execution_count": 36,
   "id": "745be128",
   "metadata": {},
   "outputs": [],
   "source": [
    "u = nrMat2np(A1)"
   ]
  },
  {
   "cell_type": "code",
   "execution_count": 37,
   "id": "157d3615",
   "metadata": {},
   "outputs": [
    {
     "data": {
      "text/plain": [
       "array([[ 0.25000003, -0.25      ,  0.25      ],\n",
       "       [-0.33333334,  0.66666669,  0.        ],\n",
       "       [ 0.41666666, -0.08333334, -0.25      ]])"
      ]
     },
     "execution_count": 37,
     "metadata": {},
     "output_type": "execute_result"
    }
   ],
   "source": [
    "u.np"
   ]
  },
  {
   "cell_type": "code",
   "execution_count": null,
   "id": "ad1a6ac7",
   "metadata": {},
   "outputs": [],
   "source": []
  }
 ],
 "metadata": {
  "kernelspec": {
   "display_name": "Python 3",
   "language": "python",
   "name": "python3"
  },
  "language_info": {
   "codemirror_mode": {
    "name": "ipython",
    "version": 3
   },
   "file_extension": ".py",
   "mimetype": "text/x-python",
   "name": "python",
   "nbconvert_exporter": "python",
   "pygments_lexer": "ipython3",
   "version": "3.8.8"
  }
 },
 "nbformat": 4,
 "nbformat_minor": 5
}
